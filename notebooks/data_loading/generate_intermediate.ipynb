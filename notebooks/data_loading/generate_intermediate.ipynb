{
 "cells": [
  {
   "cell_type": "markdown",
   "metadata": {},
   "source": [
    "# Intermediate Frame Generation\n",
    "This notebook crawls the Brain Radio data directory and populates a (custom) dataframe with the frequency features specified.\n"
   ]
  },
  {
   "cell_type": "code",
   "execution_count": 4,
   "metadata": {},
   "outputs": [],
   "source": [
    "%reload_ext autoreload\n",
    "%autoreload 2\n",
    "\n",
    "import logging\n",
    "logger = logging.getLogger()\n",
    "logger.setLevel(logging.INFO)\n"
   ]
  },
  {
   "cell_type": "code",
   "execution_count": 5,
   "metadata": {},
   "outputs": [],
   "source": [
    "\n",
    "import dbspace\n",
    "from dbspace.readout.BR_DataFrame import BR_Data_Tree"
   ]
  },
  {
   "cell_type": "markdown",
   "metadata": {},
   "source": [
    "# Input Specifications\n",
    "You need to specify the parent directory for the data.\n",
    "\n",
    "You should also specify the feature sets you want to include in your analysis."
   ]
  },
  {
   "cell_type": "code",
   "execution_count": 6,
   "metadata": {},
   "outputs": [],
   "source": [
    "brainradio_data_directory = \"/data/neural/mayberg_2013/brain_radio\" #suggest this directory inside the devcontainer\n"
   ]
  },
  {
   "cell_type": "code",
   "execution_count": 12,
   "metadata": {},
   "outputs": [
    {
     "name": "stderr",
     "output_type": "stream",
     "text": [
      "INFO:root:Setting data directory to /data/neural/mayberg_2013/brain_radio\n"
     ]
    },
    {
     "ename": "AttributeError",
     "evalue": "'BR_Data_Tree' object has no attribute 'sec_end'",
     "output_type": "error",
     "traceback": [
      "\u001b[0;31m---------------------------------------------------------------------------\u001b[0m",
      "\u001b[0;31mAttributeError\u001b[0m                            Traceback (most recent call last)",
      "\u001b[1;32m/workspaces/dr_scc/notebooks/data_loading/generate_intermediate.ipynb Cell 6\u001b[0m line \u001b[0;36m3\n\u001b[1;32m      <a href='vscode-notebook-cell://dev-container%2B7b22686f737450617468223a222f686f6d652f7669726174692f44726f70626f782f50726f6a656374732f52657365617263682f4d44442d4442532f45706879732f64725f736363222c226c6f63616c446f636b6572223a66616c73652c22636f6e66696746696c65223a7b22246d6964223a312c22667350617468223a222f686f6d652f7669726174692f44726f70626f782f50726f6a656374732f52657365617263682f4d44442d4442532f45706879732f64725f7363632f2e646576636f6e7461696e65722f646576636f6e7461696e65722e6a736f6e222c2265787465726e616c223a2266696c653a2f2f2f686f6d652f7669726174692f44726f70626f782f50726f6a656374732f52657365617263682f4d44442d4442532f45706879732f64725f7363632f2e646576636f6e7461696e65722f646576636f6e7461696e65722e6a736f6e222c2270617468223a222f686f6d652f7669726174692f44726f70626f782f50726f6a656374732f52657365617263682f4d44442d4442532f45706879732f64725f7363632f2e646576636f6e7461696e65722f646576636f6e7461696e65722e6a736f6e222c22736368656d65223a2266696c65227d7d/workspaces/dr_scc/notebooks/data_loading/generate_intermediate.ipynb#W4sdnNjb2RlLXJlbW90ZQ%3D%3D?line=0'>1</a>\u001b[0m DataFrame \u001b[39m=\u001b[39m BR_Data_Tree(clin_vector_file \u001b[39m=\u001b[39m \u001b[39m\"\u001b[39m\u001b[39m/data/clinical/mayberg_2013/clinical_vectors.json\u001b[39m\u001b[39m\"\u001b[39m, \\\n\u001b[1;32m      <a href='vscode-notebook-cell://dev-container%2B7b22686f737450617468223a222f686f6d652f7669726174692f44726f70626f782f50726f6a656374732f52657365617263682f4d44442d4442532f45706879732f64725f736363222c226c6f63616c446f636b6572223a66616c73652c22636f6e66696746696c65223a7b22246d6964223a312c22667350617468223a222f686f6d652f7669726174692f44726f70626f782f50726f6a656374732f52657365617263682f4d44442d4442532f45706879732f64725f7363632f2e646576636f6e7461696e65722f646576636f6e7461696e65722e6a736f6e222c2265787465726e616c223a2266696c653a2f2f2f686f6d652f7669726174692f44726f70626f782f50726f6a656374732f52657365617263682f4d44442d4442532f45706879732f64725f7363632f2e646576636f6e7461696e65722f646576636f6e7461696e65722e6a736f6e222c2270617468223a222f686f6d652f7669726174692f44726f70626f782f50726f6a656374732f52657365617263682f4d44442d4442532f45706879732f64725f7363632f2e646576636f6e7461696e65722f646576636f6e7461696e65722e6a736f6e222c22736368656d65223a2266696c65227d7d/workspaces/dr_scc/notebooks/data_loading/generate_intermediate.ipynb#W4sdnNjb2RlLXJlbW90ZQ%3D%3D?line=1'>2</a>\u001b[0m                          input_data_directory\u001b[39m=\u001b[39mbrainradio_data_directory)\n\u001b[0;32m----> <a href='vscode-notebook-cell://dev-container%2B7b22686f737450617468223a222f686f6d652f7669726174692f44726f70626f782f50726f6a656374732f52657365617263682f4d44442d4442532f45706879732f64725f736363222c226c6f63616c446f636b6572223a66616c73652c22636f6e66696746696c65223a7b22246d6964223a312c22667350617468223a222f686f6d652f7669726174692f44726f70626f782f50726f6a656374732f52657365617263682f4d44442d4442532f45706879732f64725f7363632f2e646576636f6e7461696e65722f646576636f6e7461696e65722e6a736f6e222c2265787465726e616c223a2266696c653a2f2f2f686f6d652f7669726174692f44726f70626f782f50726f6a656374732f52657365617263682f4d44442d4442532f45706879732f64725f7363632f2e646576636f6e7461696e65722f646576636f6e7461696e65722e6a736f6e222c2270617468223a222f686f6d652f7669726174692f44726f70626f782f50726f6a656374732f52657365617263682f4d44442d4442532f45706879732f64725f7363632f2e646576636f6e7461696e65722f646576636f6e7461696e65722e6a736f6e222c22736368656d65223a2266696c65227d7d/workspaces/dr_scc/notebooks/data_loading/generate_intermediate.ipynb#W4sdnNjb2RlLXJlbW90ZQ%3D%3D?line=2'>3</a>\u001b[0m DataFrame\u001b[39m.\u001b[39;49mgenerate_TD_sequence()\n",
      "File \u001b[0;32m/dbspace/src/dbspace/readout/BR_DataFrame.py:124\u001b[0m, in \u001b[0;36mBR_Data_Tree.generate_TD_sequence\u001b[0;34m(self)\u001b[0m\n\u001b[1;32m    121\u001b[0m \u001b[39mself\u001b[39m\u001b[39m.\u001b[39mmeta_files()\n\u001b[1;32m    123\u001b[0m \u001b[39m# Load in our data (timeseries)\u001b[39;00m\n\u001b[0;32m--> 124\u001b[0m \u001b[39mself\u001b[39;49m\u001b[39m.\u001b[39;49mLoad_Data(domain\u001b[39m=\u001b[39;49m\u001b[39m\"\u001b[39;49m\u001b[39mT\u001b[39;49m\u001b[39m\"\u001b[39;49m)\n\u001b[1;32m    125\u001b[0m \u001b[39mself\u001b[39m\u001b[39m.\u001b[39mprune_meta()\n\u001b[1;32m    126\u001b[0m \u001b[39mself\u001b[39m\u001b[39m.\u001b[39mcheck_empty_phases()\n",
      "File \u001b[0;32m/dbspace/src/dbspace/readout/BR_DataFrame.py:379\u001b[0m, in \u001b[0;36mBR_Data_Tree.Load_Data\u001b[0;34m(self, domain)\u001b[0m\n\u001b[1;32m    377\u001b[0m     \u001b[39mself\u001b[39m\u001b[39m.\u001b[39mdata_basis[domain] \u001b[39m=\u001b[39m np\u001b[39m.\u001b[39mlinspace(\u001b[39m0\u001b[39m, \u001b[39mself\u001b[39m\u001b[39m.\u001b[39msampling_rate \u001b[39m/\u001b[39m \u001b[39m2\u001b[39m, \u001b[39m2\u001b[39m\u001b[39m*\u001b[39m\u001b[39m*\u001b[39m\u001b[39m9\u001b[39m \u001b[39m+\u001b[39m \u001b[39m1\u001b[39m)\n\u001b[1;32m    378\u001b[0m \u001b[39melif\u001b[39;00m domain \u001b[39m==\u001b[39m \u001b[39m\"\u001b[39m\u001b[39mT\u001b[39m\u001b[39m\"\u001b[39m:\n\u001b[0;32m--> 379\u001b[0m     \u001b[39mself\u001b[39m\u001b[39m.\u001b[39mdata_basis[domain] \u001b[39m=\u001b[39m np\u001b[39m.\u001b[39mlinspace(\u001b[39m0\u001b[39m, \u001b[39mself\u001b[39;49m\u001b[39m.\u001b[39;49msec_end)\n\u001b[1;32m    381\u001b[0m \u001b[39mfor\u001b[39;00m rr \u001b[39min\u001b[39;00m \u001b[39mself\u001b[39m\u001b[39m.\u001b[39mfile_meta:\n\u001b[1;32m    382\u001b[0m     \u001b[39m# load in the file\u001b[39;00m\n\u001b[1;32m    383\u001b[0m     \u001b[39mprint\u001b[39m(\u001b[39m\"\u001b[39m\u001b[39mLoading in \u001b[39m\u001b[39m\"\u001b[39m \u001b[39m+\u001b[39m rr[\u001b[39m\"\u001b[39m\u001b[39mFilename\u001b[39m\u001b[39m\"\u001b[39m])\n",
      "\u001b[0;31mAttributeError\u001b[0m: 'BR_Data_Tree' object has no attribute 'sec_end'"
     ]
    }
   ],
   "source": [
    "DataFrame = BR_Data_Tree(clin_vector_file = \"/data/clinical/mayberg_2013/clinical_vectors.json\", \\\n",
    "                         input_data_directory=brainradio_data_directory)\n",
    "DataFrame.run_loading().Save_Frame()\n",
    "\n",
    "DataFrame.generate_TD_sequence()"
   ]
  },
  {
   "cell_type": "code",
   "execution_count": 10,
   "metadata": {},
   "outputs": [
    {
     "ename": "NameError",
     "evalue": "name 'DataFrame' is not defined",
     "output_type": "error",
     "traceback": [
      "\u001b[0;31m---------------------------------------------------------------------------\u001b[0m",
      "\u001b[0;31mNameError\u001b[0m                                 Traceback (most recent call last)",
      "\u001b[1;32m/workspaces/dr_scc/notebooks/data_loading/generate_intermediate.ipynb Cell 7\u001b[0m line \u001b[0;36m1\n\u001b[0;32m----> <a href='vscode-notebook-cell://dev-container%2B7b22686f737450617468223a222f686f6d652f7669726174692f44726f70626f782f50726f6a656374732f52657365617263682f4d44442d4442532f45706879732f64725f736363222c226c6f63616c446f636b6572223a66616c73652c22636f6e66696746696c65223a7b22246d6964223a312c22667350617468223a222f686f6d652f7669726174692f44726f70626f782f50726f6a656374732f52657365617263682f4d44442d4442532f45706879732f64725f7363632f2e646576636f6e7461696e65722f646576636f6e7461696e65722e6a736f6e222c2265787465726e616c223a2266696c653a2f2f2f686f6d652f7669726174692f44726f70626f782f50726f6a656374732f52657365617263682f4d44442d4442532f45706879732f64725f7363632f2e646576636f6e7461696e65722f646576636f6e7461696e65722e6a736f6e222c2270617468223a222f686f6d652f7669726174692f44726f70626f782f50726f6a656374732f52657365617263682f4d44442d4442532f45706879732f64725f7363632f2e646576636f6e7461696e65722f646576636f6e7461696e65722e6a736f6e222c22736368656d65223a2266696c65227d7d/workspaces/dr_scc/notebooks/data_loading/generate_intermediate.ipynb#W6sdnNjb2RlLXJlbW90ZQ%3D%3D?line=0'>1</a>\u001b[0m DataFrame\u001b[39m.\u001b[39mSave_Frame(name_addendum\u001b[39m=\u001b[39m\u001b[39m\"\u001b[39m\u001b[39mDec2020_T\u001b[39m\u001b[39m\"\u001b[39m)\n",
      "\u001b[0;31mNameError\u001b[0m: name 'DataFrame' is not defined"
     ]
    }
   ],
   "source": [
    "DataFrame.Save_Frame(name_addendum=\"Dec2020_T\")"
   ]
  }
 ],
 "metadata": {
  "kernelspec": {
   "display_name": "dr-scc-8slFt40C-py3.8",
   "language": "python",
   "name": "python3"
  },
  "language_info": {
   "codemirror_mode": {
    "name": "ipython",
    "version": 3
   },
   "file_extension": ".py",
   "mimetype": "text/x-python",
   "name": "python",
   "nbconvert_exporter": "python",
   "pygments_lexer": "ipython3",
   "version": "3.8.17"
  },
  "orig_nbformat": 4
 },
 "nbformat": 4,
 "nbformat_minor": 2
}
