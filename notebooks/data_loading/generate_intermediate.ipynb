{
 "cells": [
  {
   "cell_type": "markdown",
   "metadata": {},
   "source": [
    "# Intermediate Frame Generation\n",
    "This notebook crawls the Brain Radio data directory and populates a (custom) dataframe with the frequency features specified.\n"
   ]
  },
  {
   "cell_type": "code",
   "execution_count": 5,
   "metadata": {},
   "outputs": [],
   "source": [
    "import logging\n",
    "logger = logging.getLogger()\n",
    "logger.setLevel(logging.INFO)\n",
    "\n",
    "\n",
    "import dbspace\n",
    "from dbspace.readout.BR_DataFrame import BR_Data_Tree"
   ]
  },
  {
   "cell_type": "markdown",
   "metadata": {},
   "source": [
    "# Input Specifications\n",
    "You need to specify the parent directory for the data.\n",
    "\n",
    "You should also specify the feature sets you want to include in your analysis."
   ]
  },
  {
   "cell_type": "code",
   "execution_count": 9,
   "metadata": {},
   "outputs": [],
   "source": [
    "brainradio_data_directory = \"/data/neural/mayberg_2013/brain_radio\" #suggest this directory inside the devcontainer\n"
   ]
  },
  {
   "cell_type": "code",
   "execution_count": 11,
   "metadata": {},
   "outputs": [
    {
     "name": "stderr",
     "output_type": "stream",
     "text": [
      "INFO:root:Setting data directory to /data/neural/mayberg_2013/brain_radio/\n"
     ]
    },
    {
     "name": "stdout",
     "output_type": "stream",
     "text": [
      "Generating the dataframe...\n"
     ]
    },
    {
     "ename": "IndexError",
     "evalue": "list index out of range",
     "output_type": "error",
     "traceback": [
      "\u001b[0;31m---------------------------------------------------------------------------\u001b[0m",
      "\u001b[0;31mIndexError\u001b[0m                                Traceback (most recent call last)",
      "\u001b[1;32m/workspaces/dr_scc/notebooks/data_loading/generate_intermediate.ipynb Cell 5\u001b[0m line \u001b[0;36m1\n\u001b[0;32m----> <a href='vscode-notebook-cell://dev-container%2B7b22686f737450617468223a222f686f6d652f7669726174692f44726f70626f782f50726f6a656374732f52657365617263682f4d44442d4442532f45706879732f64725f736363222c226c6f63616c446f636b6572223a66616c73652c22636f6e66696746696c65223a7b22246d6964223a312c22667350617468223a222f686f6d652f7669726174692f44726f70626f782f50726f6a656374732f52657365617263682f4d44442d4442532f45706879732f64725f7363632f2e646576636f6e7461696e65722f646576636f6e7461696e65722e6a736f6e222c2265787465726e616c223a2266696c653a2f2f2f686f6d652f7669726174692f44726f70626f782f50726f6a656374732f52657365617263682f4d44442d4442532f45706879732f64725f7363632f2e646576636f6e7461696e65722f646576636f6e7461696e65722e6a736f6e222c2270617468223a222f686f6d652f7669726174692f44726f70626f782f50726f6a656374732f52657365617263682f4d44442d4442532f45706879732f64725f7363632f2e646576636f6e7461696e65722f646576636f6e7461696e65722e6a736f6e222c22736368656d65223a2266696c65227d7d/workspaces/dr_scc/notebooks/data_loading/generate_intermediate.ipynb#W4sdnNjb2RlLXJlbW90ZQ%3D%3D?line=0'>1</a>\u001b[0m DataFrame \u001b[39m=\u001b[39m BR_Data_Tree(premade_frame_file\u001b[39m=\u001b[39;49m\u001b[39mNone\u001b[39;49;00m, \\\n\u001b[1;32m      <a href='vscode-notebook-cell://dev-container%2B7b22686f737450617468223a222f686f6d652f7669726174692f44726f70626f782f50726f6a656374732f52657365617263682f4d44442d4442532f45706879732f64725f736363222c226c6f63616c446f636b6572223a66616c73652c22636f6e66696746696c65223a7b22246d6964223a312c22667350617468223a222f686f6d652f7669726174692f44726f70626f782f50726f6a656374732f52657365617263682f4d44442d4442532f45706879732f64725f7363632f2e646576636f6e7461696e65722f646576636f6e7461696e65722e6a736f6e222c2265787465726e616c223a2266696c653a2f2f2f686f6d652f7669726174692f44726f70626f782f50726f6a656374732f52657365617263682f4d44442d4442532f45706879732f64725f7363632f2e646576636f6e7461696e65722f646576636f6e7461696e65722e6a736f6e222c2270617468223a222f686f6d652f7669726174692f44726f70626f782f50726f6a656374732f52657365617263682f4d44442d4442532f45706879732f64725f7363632f2e646576636f6e7461696e65722f646576636f6e7461696e65722e6a736f6e222c22736368656d65223a2266696c65227d7d/workspaces/dr_scc/notebooks/data_loading/generate_intermediate.ipynb#W4sdnNjb2RlLXJlbW90ZQ%3D%3D?line=1'>2</a>\u001b[0m                          clin_vector_file \u001b[39m=\u001b[39;49m \u001b[39m\"\u001b[39;49m\u001b[39m/data/clinical/mayberg_2013/clinical_vectors.json\u001b[39;49m\u001b[39m\"\u001b[39;49m, \\\n\u001b[1;32m      <a href='vscode-notebook-cell://dev-container%2B7b22686f737450617468223a222f686f6d652f7669726174692f44726f70626f782f50726f6a656374732f52657365617263682f4d44442d4442532f45706879732f64725f736363222c226c6f63616c446f636b6572223a66616c73652c22636f6e66696746696c65223a7b22246d6964223a312c22667350617468223a222f686f6d652f7669726174692f44726f70626f782f50726f6a656374732f52657365617263682f4d44442d4442532f45706879732f64725f7363632f2e646576636f6e7461696e65722f646576636f6e7461696e65722e6a736f6e222c2265787465726e616c223a2266696c653a2f2f2f686f6d652f7669726174692f44726f70626f782f50726f6a656374732f52657365617263682f4d44442d4442532f45706879732f64725f7363632f2e646576636f6e7461696e65722f646576636f6e7461696e65722e6a736f6e222c2270617468223a222f686f6d652f7669726174692f44726f70626f782f50726f6a656374732f52657365617263682f4d44442d4442532f45706879732f64725f7363632f2e646576636f6e7461696e65722f646576636f6e7461696e65722e6a736f6e222c22736368656d65223a2266696c65227d7d/workspaces/dr_scc/notebooks/data_loading/generate_intermediate.ipynb#W4sdnNjb2RlLXJlbW90ZQ%3D%3D?line=2'>3</a>\u001b[0m                          input_data_directory\u001b[39m=\u001b[39;49mbrainradio_data_directory)\n\u001b[1;32m      <a href='vscode-notebook-cell://dev-container%2B7b22686f737450617468223a222f686f6d652f7669726174692f44726f70626f782f50726f6a656374732f52657365617263682f4d44442d4442532f45706879732f64725f736363222c226c6f63616c446f636b6572223a66616c73652c22636f6e66696746696c65223a7b22246d6964223a312c22667350617468223a222f686f6d652f7669726174692f44726f70626f782f50726f6a656374732f52657365617263682f4d44442d4442532f45706879732f64725f7363632f2e646576636f6e7461696e65722f646576636f6e7461696e65722e6a736f6e222c2265787465726e616c223a2266696c653a2f2f2f686f6d652f7669726174692f44726f70626f782f50726f6a656374732f52657365617263682f4d44442d4442532f45706879732f64725f7363632f2e646576636f6e7461696e65722f646576636f6e7461696e65722e6a736f6e222c2270617468223a222f686f6d652f7669726174692f44726f70626f782f50726f6a656374732f52657365617263682f4d44442d4442532f45706879732f64725f7363632f2e646576636f6e7461696e65722f646576636f6e7461696e65722e6a736f6e222c22736368656d65223a2266696c65227d7d/workspaces/dr_scc/notebooks/data_loading/generate_intermediate.ipynb#W4sdnNjb2RlLXJlbW90ZQ%3D%3D?line=3'>4</a>\u001b[0m DataFrame\u001b[39m.\u001b[39mgenerate_TD_sequence()\n\u001b[1;32m      <a href='vscode-notebook-cell://dev-container%2B7b22686f737450617468223a222f686f6d652f7669726174692f44726f70626f782f50726f6a656374732f52657365617263682f4d44442d4442532f45706879732f64725f736363222c226c6f63616c446f636b6572223a66616c73652c22636f6e66696746696c65223a7b22246d6964223a312c22667350617468223a222f686f6d652f7669726174692f44726f70626f782f50726f6a656374732f52657365617263682f4d44442d4442532f45706879732f64725f7363632f2e646576636f6e7461696e65722f646576636f6e7461696e65722e6a736f6e222c2265787465726e616c223a2266696c653a2f2f2f686f6d652f7669726174692f44726f70626f782f50726f6a656374732f52657365617263682f4d44442d4442532f45706879732f64725f7363632f2e646576636f6e7461696e65722f646576636f6e7461696e65722e6a736f6e222c2270617468223a222f686f6d652f7669726174692f44726f70626f782f50726f6a656374732f52657365617263682f4d44442d4442532f45706879732f64725f7363632f2e646576636f6e7461696e65722f646576636f6e7461696e65722e6a736f6e222c22736368656d65223a2266696c65227d7d/workspaces/dr_scc/notebooks/data_loading/generate_intermediate.ipynb#W4sdnNjb2RlLXJlbW90ZQ%3D%3D?line=4'>5</a>\u001b[0m DataFrame\u001b[39m.\u001b[39mSave_Frame(name_addendum\u001b[39m=\u001b[39m\u001b[39m\"\u001b[39m\u001b[39mDec2020_T\u001b[39m\u001b[39m\"\u001b[39m)\n",
      "File \u001b[0;32m/dbspace/src/dbspace/readout/BR_DataFrame.py:100\u001b[0m, in \u001b[0;36mBR_Data_Tree.__init__\u001b[0;34m(self, frame_label, premade_frame_file, clin_vector_file, do_pts, input_data_directory, output_intermediate_directory, analysis_configuration)\u001b[0m\n\u001b[1;32m     98\u001b[0m \u001b[39mif\u001b[39;00m premade_frame_file \u001b[39mis\u001b[39;00m \u001b[39mNone\u001b[39;00m:\n\u001b[1;32m     99\u001b[0m     \u001b[39mprint\u001b[39m(\u001b[39m\"\u001b[39m\u001b[39mGenerating the dataframe...\u001b[39m\u001b[39m\"\u001b[39m)\n\u001b[0;32m--> 100\u001b[0m     \u001b[39mself\u001b[39;49m\u001b[39m.\u001b[39;49mgenerate_sequence()\n\u001b[1;32m    101\u001b[0m     \u001b[39m# Save it now\u001b[39;00m\n\u001b[1;32m    102\u001b[0m     \u001b[39mself\u001b[39m\u001b[39m.\u001b[39mSave_Frame(name_addendum\u001b[39m=\u001b[39mframe_label)\n",
      "File \u001b[0;32m/dbspace/src/dbspace/readout/BR_DataFrame.py:131\u001b[0m, in \u001b[0;36mBR_Data_Tree.generate_sequence\u001b[0;34m(self, domain)\u001b[0m\n\u001b[1;32m    129\u001b[0m \u001b[39m# Here we go through all of our files in the dictionaries and put them into our database\u001b[39;00m\n\u001b[1;32m    130\u001b[0m \u001b[39mself\u001b[39m\u001b[39m.\u001b[39mlist_files()\n\u001b[0;32m--> 131\u001b[0m \u001b[39mself\u001b[39;49m\u001b[39m.\u001b[39;49mmeta_files()\n\u001b[1;32m    133\u001b[0m \u001b[39m# Load in our data (timeseries)\u001b[39;00m\n\u001b[1;32m    134\u001b[0m \u001b[39mself\u001b[39m\u001b[39m.\u001b[39mLoad_Data(domain\u001b[39m=\u001b[39mdomain)\n",
      "File \u001b[0;32m/dbspace/src/dbspace/readout/BR_DataFrame.py:327\u001b[0m, in \u001b[0;36mBR_Data_Tree.meta_files\u001b[0;34m(self, mode)\u001b[0m\n\u001b[1;32m    325\u001b[0m file_typeinfo \u001b[39m=\u001b[39m \u001b[39mself\u001b[39m\u001b[39m.\u001b[39mextract_rectype(filen)\n\u001b[1;32m    326\u001b[0m \u001b[39m# file_gaininfo = self.extract_gains(filen)\u001b[39;00m\n\u001b[0;32m--> 327\u001b[0m file_ptinfo \u001b[39m=\u001b[39m \u001b[39mself\u001b[39;49m\u001b[39m.\u001b[39;49mextract_pt(filen)\n\u001b[1;32m    328\u001b[0m file_phaseinfo \u001b[39m=\u001b[39m \u001b[39mself\u001b[39m\u001b[39m.\u001b[39mget_date_phase(file_ptinfo, file_dateinfo)\n\u001b[1;32m    329\u001b[0m file_dayniteinfo \u001b[39m=\u001b[39m \u001b[39mself\u001b[39m\u001b[39m.\u001b[39mget_time(filen)\n",
      "File \u001b[0;32m/dbspace/src/dbspace/readout/BR_DataFrame.py:268\u001b[0m, in \u001b[0;36mBR_Data_Tree.extract_pt\u001b[0;34m(self, fname)\u001b[0m\n\u001b[1;32m    267\u001b[0m \u001b[39mdef\u001b[39;00m \u001b[39mextract_pt\u001b[39m(\u001b[39mself\u001b[39m, fname):\n\u001b[0;32m--> 268\u001b[0m     \u001b[39mreturn\u001b[39;00m fname\u001b[39m.\u001b[39;49msplit(\u001b[39m\"\u001b[39;49m\u001b[39mBR\u001b[39;49m\u001b[39m\"\u001b[39;49m)[\u001b[39m1\u001b[39;49m][\u001b[39m1\u001b[39m:\u001b[39m4\u001b[39m]\n",
      "\u001b[0;31mIndexError\u001b[0m: list index out of range"
     ]
    }
   ],
   "source": [
    "DataFrame = BR_Data_Tree(premade_frame_file=None, \\\n",
    "                         clin_vector_file = \"/data/clinical/mayberg_2013/clinical_vectors.json\", \\\n",
    "                         input_data_directory=brainradio_data_directory)\n",
    "DataFrame.generate_TD_sequence()\n",
    "DataFrame.Save_Frame(name_addendum=\"Dec2020_T\")"
   ]
  }
 ],
 "metadata": {
  "kernelspec": {
   "display_name": "dr-scc-8slFt40C-py3.8",
   "language": "python",
   "name": "python3"
  },
  "language_info": {
   "codemirror_mode": {
    "name": "ipython",
    "version": 3
   },
   "file_extension": ".py",
   "mimetype": "text/x-python",
   "name": "python",
   "nbconvert_exporter": "python",
   "pygments_lexer": "ipython3",
   "version": "3.8.17"
  },
  "orig_nbformat": 4
 },
 "nbformat": 4,
 "nbformat_minor": 2
}
