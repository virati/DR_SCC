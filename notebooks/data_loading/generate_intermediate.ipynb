{
 "cells": [
  {
   "cell_type": "markdown",
   "metadata": {},
   "source": [
    "# Intermediate Frame Generation\n",
    "This notebook crawls the Brain Radio data directory and populates a (custom) dataframe with the frequency features specified.\n"
   ]
  },
  {
   "cell_type": "code",
   "execution_count": 3,
   "metadata": {},
   "outputs": [],
   "source": [
    "import dbspace\n",
    "from dbspace.readout.BR_DataFrame import BR_Data_Tree"
   ]
  },
  {
   "cell_type": "markdown",
   "metadata": {},
   "source": [
    "# Input Specifications\n",
    "You need to specify the parent directory for the data.\n",
    "\n",
    "You should also specify the feature sets you want to include in your analysis."
   ]
  },
  {
   "cell_type": "code",
   "execution_count": 4,
   "metadata": {},
   "outputs": [],
   "source": [
    "brainradio_data_directory = \"\" #suggest this directory inside the devcontainer\n"
   ]
  },
  {
   "cell_type": "code",
   "execution_count": 7,
   "metadata": {},
   "outputs": [
    {
     "ename": "AttributeError",
     "evalue": "type object 'Path' has no attribute 'Path'",
     "output_type": "error",
     "traceback": [
      "\u001b[0;31m---------------------------------------------------------------------------\u001b[0m",
      "\u001b[0;31mAttributeError\u001b[0m                            Traceback (most recent call last)",
      "\u001b[1;32m/workspaces/dr_scc/notebooks/data_loading/generate_intermediate.ipynb Cell 5\u001b[0m line \u001b[0;36m1\n\u001b[0;32m----> <a href='vscode-notebook-cell://dev-container%2B7b22686f737450617468223a222f686f6d652f7669726174692f44726f70626f782f50726f6a656374732f52657365617263682f4d44442d4442532f45706879732f64725f736363222c226c6f63616c446f636b6572223a66616c73652c22636f6e66696746696c65223a7b22246d6964223a312c22667350617468223a222f686f6d652f7669726174692f44726f70626f782f50726f6a656374732f52657365617263682f4d44442d4442532f45706879732f64725f7363632f2e646576636f6e7461696e65722f646576636f6e7461696e65722e6a736f6e222c2265787465726e616c223a2266696c653a2f2f2f686f6d652f7669726174692f44726f70626f782f50726f6a656374732f52657365617263682f4d44442d4442532f45706879732f64725f7363632f2e646576636f6e7461696e65722f646576636f6e7461696e65722e6a736f6e222c2270617468223a222f686f6d652f7669726174692f44726f70626f782f50726f6a656374732f52657365617263682f4d44442d4442532f45706879732f64725f7363632f2e646576636f6e7461696e65722f646576636f6e7461696e65722e6a736f6e222c22736368656d65223a2266696c65227d7d/workspaces/dr_scc/notebooks/data_loading/generate_intermediate.ipynb#W4sdnNjb2RlLXJlbW90ZQ%3D%3D?line=0'>1</a>\u001b[0m DataFrame \u001b[39m=\u001b[39m BR_Data_Tree(premade_frame_file\u001b[39m=\u001b[39;49m\u001b[39m\"\u001b[39;49m\u001b[39mGENERATE\u001b[39;49m\u001b[39m\"\u001b[39;49m, clin_vector_file \u001b[39m=\u001b[39;49m \u001b[39m\"\u001b[39;49m\u001b[39m/data/clinical/mayberg_2013/clinical_vectors.json\u001b[39;49m\u001b[39m\"\u001b[39;49m)\n\u001b[1;32m      <a href='vscode-notebook-cell://dev-container%2B7b22686f737450617468223a222f686f6d652f7669726174692f44726f70626f782f50726f6a656374732f52657365617263682f4d44442d4442532f45706879732f64725f736363222c226c6f63616c446f636b6572223a66616c73652c22636f6e66696746696c65223a7b22246d6964223a312c22667350617468223a222f686f6d652f7669726174692f44726f70626f782f50726f6a656374732f52657365617263682f4d44442d4442532f45706879732f64725f7363632f2e646576636f6e7461696e65722f646576636f6e7461696e65722e6a736f6e222c2265787465726e616c223a2266696c653a2f2f2f686f6d652f7669726174692f44726f70626f782f50726f6a656374732f52657365617263682f4d44442d4442532f45706879732f64725f7363632f2e646576636f6e7461696e65722f646576636f6e7461696e65722e6a736f6e222c2270617468223a222f686f6d652f7669726174692f44726f70626f782f50726f6a656374732f52657365617263682f4d44442d4442532f45706879732f64725f7363632f2e646576636f6e7461696e65722f646576636f6e7461696e65722e6a736f6e222c22736368656d65223a2266696c65227d7d/workspaces/dr_scc/notebooks/data_loading/generate_intermediate.ipynb#W4sdnNjb2RlLXJlbW90ZQ%3D%3D?line=1'>2</a>\u001b[0m DataFrame\u001b[39m.\u001b[39mgenerate_TD_sequence()\n\u001b[1;32m      <a href='vscode-notebook-cell://dev-container%2B7b22686f737450617468223a222f686f6d652f7669726174692f44726f70626f782f50726f6a656374732f52657365617263682f4d44442d4442532f45706879732f64725f736363222c226c6f63616c446f636b6572223a66616c73652c22636f6e66696746696c65223a7b22246d6964223a312c22667350617468223a222f686f6d652f7669726174692f44726f70626f782f50726f6a656374732f52657365617263682f4d44442d4442532f45706879732f64725f7363632f2e646576636f6e7461696e65722f646576636f6e7461696e65722e6a736f6e222c2265787465726e616c223a2266696c653a2f2f2f686f6d652f7669726174692f44726f70626f782f50726f6a656374732f52657365617263682f4d44442d4442532f45706879732f64725f7363632f2e646576636f6e7461696e65722f646576636f6e7461696e65722e6a736f6e222c2270617468223a222f686f6d652f7669726174692f44726f70626f782f50726f6a656374732f52657365617263682f4d44442d4442532f45706879732f64725f7363632f2e646576636f6e7461696e65722f646576636f6e7461696e65722e6a736f6e222c22736368656d65223a2266696c65227d7d/workspaces/dr_scc/notebooks/data_loading/generate_intermediate.ipynb#W4sdnNjb2RlLXJlbW90ZQ%3D%3D?line=2'>3</a>\u001b[0m DataFrame\u001b[39m.\u001b[39mSave_Frame(name_addendum\u001b[39m=\u001b[39m\u001b[39m\"\u001b[39m\u001b[39mDec2020_T\u001b[39m\u001b[39m\"\u001b[39m)\n",
      "File \u001b[0;32m~/.cache/pypoetry/virtualenvs/dr-scc-8slFt40C-py3.8/lib/python3.8/site-packages/dbspace/readout/BR_DataFrame.py:64\u001b[0m, in \u001b[0;36mBR_Data_Tree.__init__\u001b[0;34m(self, frame_label, premade_frame_file, clin_vector_file, do_pts)\u001b[0m\n\u001b[1;32m     61\u001b[0m \u001b[39mif\u001b[39;00m frame_label \u001b[39mis\u001b[39;00m \u001b[39mNone\u001b[39;00m:\n\u001b[1;32m     62\u001b[0m     \u001b[39m# construct from date\u001b[39;00m\n\u001b[1;32m     63\u001b[0m     \u001b[39mself\u001b[39m\u001b[39m.\u001b[39m_frame_label \u001b[39m=\u001b[39m \u001b[39mstr\u001b[39m(datetime\u001b[39m.\u001b[39mdate)\n\u001b[0;32m---> 64\u001b[0m \u001b[39mif\u001b[39;00m Path\u001b[39m.\u001b[39;49mPath(\n\u001b[1;32m     65\u001b[0m     \u001b[39mself\u001b[39m\u001b[39m.\u001b[39mintermediate_dir \u001b[39m+\u001b[39m \u001b[39m\"\u001b[39m\u001b[39m/ChronicFrame_\u001b[39m\u001b[39m\"\u001b[39m \u001b[39m+\u001b[39m \u001b[39mself\u001b[39m\u001b[39m.\u001b[39m_frame_label\n\u001b[1;32m     66\u001b[0m )\u001b[39m.\u001b[39mis_file():\n\u001b[1;32m     67\u001b[0m     logging\u001b[39m.\u001b[39minfo(\n\u001b[1;32m     68\u001b[0m         \u001b[39mf\u001b[39m\u001b[39m\"\u001b[39m\u001b[39mLoading in \u001b[39m\u001b[39m{\u001b[39;00mframe_label\u001b[39m}\u001b[39;00m\u001b[39m frame from intermediate file cache...\u001b[39m\u001b[39m\"\u001b[39m\n\u001b[1;32m     69\u001b[0m     )\n\u001b[1;32m     70\u001b[0m \u001b[39melse\u001b[39;00m:\n\u001b[1;32m     71\u001b[0m     \u001b[39m# make a new frame\u001b[39;00m\n",
      "\u001b[0;31mAttributeError\u001b[0m: type object 'Path' has no attribute 'Path'"
     ]
    }
   ],
   "source": [
    "DataFrame = BR_Data_Tree(premade_frame_file=\"GENERATE\", clin_vector_file = \"/data/clinical/mayberg_2013/clinical_vectors.json\")\n",
    "DataFrame.generate_TD_sequence()\n",
    "DataFrame.Save_Frame(name_addendum=\"Dec2020_T\")"
   ]
  }
 ],
 "metadata": {
  "kernelspec": {
   "display_name": "dr-scc-8slFt40C-py3.8",
   "language": "python",
   "name": "python3"
  },
  "language_info": {
   "codemirror_mode": {
    "name": "ipython",
    "version": 3
   },
   "file_extension": ".py",
   "mimetype": "text/x-python",
   "name": "python",
   "nbconvert_exporter": "python",
   "pygments_lexer": "ipython3",
   "version": "3.8.17"
  },
  "orig_nbformat": 4
 },
 "nbformat": 4,
 "nbformat_minor": 2
}
