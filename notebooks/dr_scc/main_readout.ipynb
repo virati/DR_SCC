{
 "cells": [
  {
   "cell_type": "code",
   "execution_count": 3,
   "metadata": {},
   "outputs": [],
   "source": [
    "import seaborn as sns\n",
    "import matplotlib.pyplot as plt\n",
    "\n",
    "from dbspace.readout import ClinVect, decoder, BR_DataFrame\n",
    "\n",
    "plt.rcParams[\"image.cmap\"] = \"tab10\"\n",
    "sns.set_context(\"paper\")\n",
    "sns.set(font_scale=4)\n",
    "sns.set_style(\"white\")\n"
   ]
  },
  {
   "cell_type": "code",
   "execution_count": 4,
   "metadata": {},
   "outputs": [],
   "source": [
    "## MAJOR PARAMETERS for our partial biometric analysis\n",
    "do_pts = [\n",
    "    \"DBS901\",\n",
    "    \"DBS903\",\n",
    "    \"DBS905\",\n",
    "    \"DBS906\",\n",
    "    \"DBS907\",\n",
    "    \"DBS908\",\n",
    "]\n",
    "test_scale = \"pHDRS17\"  # Which scale are we using as the measurement of the depression state? pHDRS17 = nHDRS (from paper) and is a patient-specific normalized HDRS\n"
   ]
  },
  {
   "cell_type": "code",
   "execution_count": 5,
   "metadata": {},
   "outputs": [
    {
     "ename": "FileNotFoundError",
     "evalue": "[Errno 2] No such file or directory: '/home/virati/Dropbox/projects/Research/MDD-DBS/Data/ClinVec.json'",
     "output_type": "error",
     "traceback": [
      "\u001b[0;31m---------------------------------------------------------------------------\u001b[0m",
      "\u001b[0;31mFileNotFoundError\u001b[0m                         Traceback (most recent call last)",
      "Cell \u001b[0;32mIn[5], line 1\u001b[0m\n\u001b[0;32m----> 1\u001b[0m ClinFrame \u001b[39m=\u001b[39m ClinVect\u001b[39m.\u001b[39;49mCStruct()\n\u001b[1;32m      2\u001b[0m \u001b[39mif\u001b[39;00m test_scale \u001b[39m==\u001b[39m \u001b[39m\"\u001b[39m\u001b[39mmHDRS\u001b[39m\u001b[39m\"\u001b[39m:\n\u001b[1;32m      3\u001b[0m     ClinFrame\u001b[39m.\u001b[39mgen_mHDRS()\n",
      "File \u001b[0;32m~/dbspace/src/dbspace/readout/ClinVect.py:35\u001b[0m, in \u001b[0;36mCStruct.__init__\u001b[0;34m(self, incl_scales)\u001b[0m\n\u001b[1;32m     32\u001b[0m \u001b[39mdef\u001b[39;00m \u001b[39m__init__\u001b[39m(\u001b[39mself\u001b[39m, incl_scales\u001b[39m=\u001b[39m[\u001b[39m\"\u001b[39m\u001b[39mHDRS17\u001b[39m\u001b[39m\"\u001b[39m]):\n\u001b[1;32m     33\u001b[0m     \u001b[39mself\u001b[39m\u001b[39m.\u001b[39mphase_list \u001b[39m=\u001b[39m Phase_List(\u001b[39m\"\u001b[39m\u001b[39mall\u001b[39m\u001b[39m\"\u001b[39m)\n\u001b[1;32m     34\u001b[0m     ClinVect \u001b[39m=\u001b[39m json\u001b[39m.\u001b[39mload(\n\u001b[0;32m---> 35\u001b[0m         \u001b[39mopen\u001b[39;49m(\u001b[39m\"\u001b[39;49m\u001b[39m/home/virati/Dropbox/projects/Research/MDD-DBS/Data/ClinVec.json\u001b[39;49m\u001b[39m\"\u001b[39;49m)\n\u001b[1;32m     36\u001b[0m     )\n\u001b[1;32m     37\u001b[0m     \u001b[39mself\u001b[39m\u001b[39m.\u001b[39mpt_list \u001b[39m=\u001b[39m [ab[\u001b[39m\"\u001b[39m\u001b[39mpt\u001b[39m\u001b[39m\"\u001b[39m] \u001b[39mfor\u001b[39;00m ab \u001b[39min\u001b[39;00m ClinVect[\u001b[39m\"\u001b[39m\u001b[39mHAMDs\u001b[39m\u001b[39m\"\u001b[39m]]\n\u001b[1;32m     39\u001b[0m     depression_dict \u001b[39m=\u001b[39m nestdict()\n",
      "\u001b[0;31mFileNotFoundError\u001b[0m: [Errno 2] No such file or directory: '/home/virati/Dropbox/projects/Research/MDD-DBS/Data/ClinVec.json'"
     ]
    }
   ],
   "source": [
    "\n",
    "ClinFrame = ClinVect.CStruct()\n",
    "if test_scale == \"mHDRS\":\n",
    "    ClinFrame.gen_mHDRS()\n",
    "elif test_scale == \"DSC\":\n",
    "    ClinFrame.gen_DSC()\n",
    "\n",
    "# BRFrame = BRDF.BR_Data_Tree(preFrame='Chronic_Frame.pickle')\n",
    "BRFrame = pickle.load(\n",
    "    open(\n",
    "        \"/home/virati/Dropbox/projects/Research/MDD-DBS/Ephys/SCC_Readout/assets/intermediate_data/ChronicFrame_April2022.pickle\",\n",
    "        \"rb\",\n",
    "    )\n",
    ")\n"
   ]
  },
  {
   "cell_type": "code",
   "execution_count": null,
   "metadata": {},
   "outputs": [],
   "source": [
    "main_readout = decoder.weekly_decoderCV(\n",
    "    BRFrame=BRFrame,\n",
    "    ClinFrame=ClinFrame,\n",
    "    pts=do_pts,\n",
    "    clin_measure=test_scale,\n",
    "    algo=\"ENR\",\n",
    "    alpha=-4,\n",
    "    shuffle_null=False,\n",
    "    FeatureSet=\"main\",\n",
    "    variance=False,\n",
    ")  # main analysis is -3.4\n",
    "main_readout.global_plotting = True\n",
    "main_readout.filter_recs(rec_class=\"main_study\")\n",
    "main_readout.split_train_set(0.6)\n",
    "\n",
    "#%%\n",
    "main_readout.train_setup()\n",
    "optimal_alpha = (\n",
    "    main_readout._path_slope_regression()\n",
    ")  # suppress_vars=1/40)#,override_alpha=2**-3) #suppress_vars = 1 works well if we're not doing THarm analysis\n",
    "main_readout.train_model()\n",
    "\n",
    "#%%\n",
    "main_readout.plot_decode_CV()\n",
    "\n",
    "#%%\n",
    "main_readout.test_setup()\n",
    "main_readout.test_model()\n",
    "\n",
    "main_readout.plot_test_timecourse()\n",
    "#%%\n",
    "main_readout.plot_test_stats()\n",
    "#%%\n",
    "main_readout.plot_test_regression_figure()\n",
    "# main_readout.plot_combo_paths()"
   ]
  }
 ],
 "metadata": {
  "kernelspec": {
   "display_name": "dr-scc-8slFt40C-py3.8",
   "language": "python",
   "name": "python3"
  },
  "language_info": {
   "codemirror_mode": {
    "name": "ipython",
    "version": 3
   },
   "file_extension": ".py",
   "mimetype": "text/x-python",
   "name": "python",
   "nbconvert_exporter": "python",
   "pygments_lexer": "ipython3",
   "version": "3.8.15"
  },
  "orig_nbformat": 4,
  "vscode": {
   "interpreter": {
    "hash": "d116c016695b9bc8b2bdc7154e428aef7e4d707630be04ff6a22b930ca621601"
   }
  }
 },
 "nbformat": 4,
 "nbformat_minor": 2
}
