{
 "cells": [
  {
   "cell_type": "code",
   "execution_count": 2,
   "metadata": {},
   "outputs": [],
   "source": [
    "import seaborn as sns\n",
    "import matplotlib.pyplot as plt\n",
    "\n",
    "from dbspace.readout import ClinVect, decoder, BR_DataFrame\n",
    "\n",
    "plt.rcParams[\"image.cmap\"] = \"tab10\"\n",
    "sns.set_context(\"paper\")\n",
    "sns.set(font_scale=4)\n",
    "sns.set_style(\"white\")\n"
   ]
  },
  {
   "cell_type": "code",
   "execution_count": null,
   "metadata": {},
   "outputs": [],
   "source": [
    "## MAJOR PARAMETERS for our partial biometric analysis\n",
    "do_pts = [\n",
    "    \"DBS901\",\n",
    "    \"DBS903\",\n",
    "    \"DBS905\",\n",
    "    \"DBS906\",\n",
    "    \"DBS907\",\n",
    "    \"DBS908\",\n",
    "]\n",
    "test_scale = \"pHDRS17\"  # Which scale are we using as the measurement of the depression state? pHDRS17 = nHDRS (from paper) and is a patient-specific normalized HDRS\n"
   ]
  }
 ],
 "metadata": {
  "kernelspec": {
   "display_name": "dr-scc-8slFt40C-py3.8",
   "language": "python",
   "name": "python3"
  },
  "language_info": {
   "codemirror_mode": {
    "name": "ipython",
    "version": 3
   },
   "file_extension": ".py",
   "mimetype": "text/x-python",
   "name": "python",
   "nbconvert_exporter": "python",
   "pygments_lexer": "ipython3",
   "version": "3.8.15"
  },
  "orig_nbformat": 4,
  "vscode": {
   "interpreter": {
    "hash": "d116c016695b9bc8b2bdc7154e428aef7e4d707630be04ff6a22b930ca621601"
   }
  }
 },
 "nbformat": 4,
 "nbformat_minor": 2
}
