{
 "cells": [
  {
   "cell_type": "markdown",
   "metadata": {},
   "source": [
    "# Depression Feedback Signal\n",
    "## Oscillatory Decoding\n",
    "\n",
    "### Overview\n",
    "In this notebook we'll take a regression-based strategy to learning a linear mapping between our SCC-LFP oscillatory state and the depression state.\n",
    "\n",
    "\n",
    "### Methods\n",
    "\n",
    "Intermediate data files are generated from the raw data directory.\n",
    "\n",
    "\n",
    "### Training the model\n",
    "\n",
    "\n",
    "### Validating the model\n",
    "\n",
    "\n",
    "### Classification performance\n",
    "\n",
    "\n",
    "### Coefficients\n",
    "\n",
    "\n",
    "\n",
    "### Discussion\n"
   ]
  },
  {
   "cell_type": "code",
   "execution_count": null,
   "metadata": {},
   "outputs": [],
   "source": [
    "from DBSpace.readout import BR_DataFrame as BRDF\n",
    "from DBSpace.readout import ClinVect, decoder\n",
    "from DBSpace.readout import decoder as decoder\n",
    "from DBSpace.readout.BR_DataFrame import BR_Data_Tree\n",
    "\n",
    "# Misc libraries\n",
    "import copy\n",
    "import pickle\n",
    "\n",
    "#Debugging\n",
    "import ipdb\n",
    "\n",
    "import matplotlib.pyplot as plt\n",
    "plt.rcParams['image.cmap'] = 'tab10'\n",
    "plt.close('all')"
   ]
  },
  {
   "cell_type": "code",
   "execution_count": null,
   "metadata": {},
   "outputs": [],
   "source": [
    "## MAJOR PARAMETERS for our partial biometric analysis\n",
    "do_pts = ['901','903','905','906','907','908'] # Which patients do we want to include in this entire analysis?\n",
    "test_scale = 'pHDRS17' # Which scale are we using as the measurement of the depression state?\n",
    "\n",
    "# Initial\n",
    "# Now we set up our DBSpace environment\n",
    "#ClinFrame = ClinVect.CFrame(norm_scales=True)\n",
    "ClinFrame = ClinVect.CStruct()\n",
    "#BRFrame = BRDF.BR_Data_Tree(preFrame='Chronic_Frame.pickle')\n",
    "BRFrame = pickle.load(open('/home/virati/Dropbox/Data/Chronic_FrameMay2020.pickle',\"rb\"))\n",
    "\n",
    "#%%\n",
    "main_readout = decoder.weekly_decoderCV(BRFrame=BRFrame,ClinFrame=ClinFrame,pts=do_pts,clin_measure=test_scale,algo='ENR',alpha=-4,shuffle_null=True) #main analysis is -3.4\n",
    "main_readout.filter_recs(rec_class='main_study')\n",
    "main_readout.split_train_set(0.5)\n",
    "\n",
    "#%%\n",
    "main_readout.train_setup()\n",
    "optimal_alpha = main_readout._path_slope_regression()\n",
    "main_readout.train_model()\n",
    "#%%\n",
    "main_readout.plot_decode_CV()\n",
    "\n",
    "#%%\n",
    "main_readout.test_setup()\n",
    "main_readout.test_model()\n",
    "#%%\n",
    "\n",
    "#%%\n",
    "\n",
    "main_readout.plot_test_timecourse()\n",
    "#%%\n",
    "main_readout.plot_test_stats()\n",
    "#%%\n",
    "main_readout.plot_test_regression_figure()\n",
    "#main_readout.plot_combo_paths()\n",
    "#%%\n",
    "# Now we move on to the classifier analysis\n",
    "threshold_c = decoder.controller_analysis(main_readout,bin_type='stim_change')\n",
    "threshold_c.classif_runs()"
   ]
  }
 ],
 "metadata": {
  "kernelspec": {
   "display_name": "Python 3",
   "language": "python",
   "name": "python3"
  },
  "language_info": {
   "codemirror_mode": {
    "name": "ipython",
    "version": 3
   },
   "file_extension": ".py",
   "mimetype": "text/x-python",
   "name": "python",
   "nbconvert_exporter": "python",
   "pygments_lexer": "ipython3",
   "version": "3.8.3"
  }
 },
 "nbformat": 4,
 "nbformat_minor": 4
}
