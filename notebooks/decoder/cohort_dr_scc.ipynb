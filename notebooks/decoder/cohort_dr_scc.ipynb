{
 "cells": [
  {
   "cell_type": "code",
   "execution_count": 1,
   "metadata": {},
   "outputs": [],
   "source": [
    "#%reload_ext autoreload\n",
    "#%autoreload 2\n",
    "\n",
    "import logging\n",
    "logger = logging.getLogger()\n",
    "logger.setLevel(logging.INFO)\n"
   ]
  },
  {
   "cell_type": "code",
   "execution_count": 2,
   "metadata": {},
   "outputs": [
    {
     "name": "stdout",
     "output_type": "stream",
     "text": [
      "Importing from DBSpace.readout...\n"
     ]
    },
    {
     "name": "stderr",
     "output_type": "stream",
     "text": [
      "/dbspace/src/dbspace/readout/ClinVect.py:21: UserWarning: Warning...........Message\n",
      "  warnings.warn(\"Warning...........Message\")\n"
     ]
    }
   ],
   "source": [
    "import pickle\n",
    "import seaborn as sns\n",
    "\n",
    "import matplotlib.pyplot as plt\n",
    "from dbspace.readout import ClinVect, decoder\n",
    "import dbspace.readout.BR_DataFrame as BR_DataFrame\n",
    "\n",
    "plt.rcParams[\"image.cmap\"] = \"tab10\"\n",
    "\n",
    "sns.set_context(\"paper\")\n",
    "sns.set(font_scale=4)\n",
    "sns.set_style(\"white\")\n",
    "\n",
    "## MAJOR PARAMETERS for our partial biometric analysis\n",
    "do_pts = [\n",
    "    \"901\",\n",
    "    \"903\",\n",
    "    \"905\",\n",
    "    \"906\",\n",
    "    \"907\",\n",
    "    \"908\",\n",
    "]  # Which patients do we want to include in this entire analysis?\n",
    "test_scale = \"pHDRS17\"  # Which scale are we using as the measurement of the depression state? pHDRS17 = nHDRS (from paper) and is a patient-specific normalized HDRS\n"
   ]
  },
  {
   "cell_type": "code",
   "execution_count": 3,
   "metadata": {},
   "outputs": [
    {
     "name": "stderr",
     "output_type": "stream",
     "text": [
      "/dbspace/src/dbspace/readout/ClinVect.py:231: UserWarning: No Stim Changes Metadata file (mat) provided.\n",
      "  warnings.warn(\"No Stim Changes Metadata file (mat) provided.\")\n"
     ]
    }
   ],
   "source": [
    "# Initialize our Clinical Frame and load in our BR Frame\n",
    "\n",
    "ClinFrame = ClinVect.CStruct(\"/data/clinical/mayberg_2013/clinical_vectors_all.json\")\n",
    "if test_scale == \"mHDRS\":\n",
    "    ClinFrame.gen_mHDRS()\n",
    "elif test_scale == \"DSC\":\n",
    "    ClinFrame.gen_DSC()\n",
    "\n",
    "frame_to_analyse = 'Chronic_Frame_Dec2022'\n",
    "BRFrame = pickle.load(open(f\"/tmp/{frame_to_analyse}.pickle\",\"rb\"))\n"
   ]
  },
  {
   "cell_type": "markdown",
   "metadata": {},
   "source": [
    "# Train, test, validate the weekly decoder"
   ]
  },
  {
   "cell_type": "code",
   "execution_count": 4,
   "metadata": {},
   "outputs": [
    {
     "name": "stdout",
     "output_type": "stream",
     "text": [
      "Initialized the Weekly CV decoder\n",
      "Running ENR_CV w/:0.8\n"
     ]
    }
   ],
   "source": [
    "main_readout = decoder.weekly_decoderCV(\n",
    "    BRFrame=BRFrame,\n",
    "    ClinFrame=ClinFrame,\n",
    "    pts=do_pts,\n",
    "    clin_measure=test_scale,\n",
    "    algo=\"ENR\",\n",
    "    alpha=-4,\n",
    "    shuffle_null=False,\n",
    "    FeatureSet=\"main\",\n",
    "    variance=False,\n",
    ")  # main analysis is -3.4\n",
    "main_readout.global_plotting = True\n",
    "main_readout.filter_recs(rec_class=\"main_study\")\n",
    "main_readout.split_train_set(0.6)\n"
   ]
  },
  {
   "cell_type": "code",
   "execution_count": 7,
   "metadata": {},
   "outputs": [
    {
     "name": "stdout",
     "output_type": "stream",
     "text": [
      "Performing Training Setup for Weekly Decoder\n"
     ]
    },
    {
     "ename": "AttributeError",
     "evalue": "module 'numpy' has no attribute 'int'.\n`np.int` was a deprecated alias for the builtin `int`. To avoid this error in existing code, use `int` by itself. Doing this will not modify any behavior and is safe. When replacing `np.int`, you may wish to use e.g. `np.int64` or `np.int32` to specify the precision. If you wish to review your current use, check the release note link for additional information.\nThe aliases was originally deprecated in NumPy 1.20; for more details and guidance see the original release note at:\n    https://numpy.org/devdocs/release/1.20.0-notes.html#deprecations",
     "output_type": "error",
     "traceback": [
      "\u001b[0;31m---------------------------------------------------------------------------\u001b[0m",
      "\u001b[0;31mAttributeError\u001b[0m                            Traceback (most recent call last)",
      "\u001b[1;32m/workspaces/dr_scc/notebooks/decoder/cohort_dr_scc.ipynb Cell 6\u001b[0m line \u001b[0;36m1\n\u001b[0;32m----> <a href='vscode-notebook-cell://dev-container%2B7b22686f737450617468223a222f686f6d652f7669726174692f44726f70626f782f50726f6a656374732f52657365617263682f4d44442d4442532f45706879732f64725f736363222c226c6f63616c446f636b6572223a66616c73652c22636f6e66696746696c65223a7b22246d6964223a312c22667350617468223a222f686f6d652f7669726174692f44726f70626f782f50726f6a656374732f52657365617263682f4d44442d4442532f45706879732f64725f7363632f2e646576636f6e7461696e65722f646576636f6e7461696e65722e6a736f6e222c2265787465726e616c223a2266696c653a2f2f2f686f6d652f7669726174692f44726f70626f782f50726f6a656374732f52657365617263682f4d44442d4442532f45706879732f64725f7363632f2e646576636f6e7461696e65722f646576636f6e7461696e65722e6a736f6e222c2270617468223a222f686f6d652f7669726174692f44726f70626f782f50726f6a656374732f52657365617263682f4d44442d4442532f45706879732f64725f7363632f2e646576636f6e7461696e65722f646576636f6e7461696e65722e6a736f6e222c22736368656d65223a2266696c65227d7d/workspaces/dr_scc/notebooks/decoder/cohort_dr_scc.ipynb#W4sdnNjb2RlLXJlbW90ZQ%3D%3D?line=0'>1</a>\u001b[0m main_readout\u001b[39m.\u001b[39;49mtrain_setup()\n\u001b[1;32m      <a href='vscode-notebook-cell://dev-container%2B7b22686f737450617468223a222f686f6d652f7669726174692f44726f70626f782f50726f6a656374732f52657365617263682f4d44442d4442532f45706879732f64725f736363222c226c6f63616c446f636b6572223a66616c73652c22636f6e66696746696c65223a7b22246d6964223a312c22667350617468223a222f686f6d652f7669726174692f44726f70626f782f50726f6a656374732f52657365617263682f4d44442d4442532f45706879732f64725f7363632f2e646576636f6e7461696e65722f646576636f6e7461696e65722e6a736f6e222c2265787465726e616c223a2266696c653a2f2f2f686f6d652f7669726174692f44726f70626f782f50726f6a656374732f52657365617263682f4d44442d4442532f45706879732f64725f7363632f2e646576636f6e7461696e65722f646576636f6e7461696e65722e6a736f6e222c2270617468223a222f686f6d652f7669726174692f44726f70626f782f50726f6a656374732f52657365617263682f4d44442d4442532f45706879732f64725f7363632f2e646576636f6e7461696e65722f646576636f6e7461696e65722e6a736f6e222c22736368656d65223a2266696c65227d7d/workspaces/dr_scc/notebooks/decoder/cohort_dr_scc.ipynb#W4sdnNjb2RlLXJlbW90ZQ%3D%3D?line=1'>2</a>\u001b[0m optimal_alpha \u001b[39m=\u001b[39m (\n\u001b[1;32m      <a href='vscode-notebook-cell://dev-container%2B7b22686f737450617468223a222f686f6d652f7669726174692f44726f70626f782f50726f6a656374732f52657365617263682f4d44442d4442532f45706879732f64725f736363222c226c6f63616c446f636b6572223a66616c73652c22636f6e66696746696c65223a7b22246d6964223a312c22667350617468223a222f686f6d652f7669726174692f44726f70626f782f50726f6a656374732f52657365617263682f4d44442d4442532f45706879732f64725f7363632f2e646576636f6e7461696e65722f646576636f6e7461696e65722e6a736f6e222c2265787465726e616c223a2266696c653a2f2f2f686f6d652f7669726174692f44726f70626f782f50726f6a656374732f52657365617263682f4d44442d4442532f45706879732f64725f7363632f2e646576636f6e7461696e65722f646576636f6e7461696e65722e6a736f6e222c2270617468223a222f686f6d652f7669726174692f44726f70626f782f50726f6a656374732f52657365617263682f4d44442d4442532f45706879732f64725f7363632f2e646576636f6e7461696e65722f646576636f6e7461696e65722e6a736f6e222c22736368656d65223a2266696c65227d7d/workspaces/dr_scc/notebooks/decoder/cohort_dr_scc.ipynb#W4sdnNjb2RlLXJlbW90ZQ%3D%3D?line=2'>3</a>\u001b[0m     main_readout\u001b[39m.\u001b[39m_path_slope_regression()\n\u001b[1;32m      <a href='vscode-notebook-cell://dev-container%2B7b22686f737450617468223a222f686f6d652f7669726174692f44726f70626f782f50726f6a656374732f52657365617263682f4d44442d4442532f45706879732f64725f736363222c226c6f63616c446f636b6572223a66616c73652c22636f6e66696746696c65223a7b22246d6964223a312c22667350617468223a222f686f6d652f7669726174692f44726f70626f782f50726f6a656374732f52657365617263682f4d44442d4442532f45706879732f64725f7363632f2e646576636f6e7461696e65722f646576636f6e7461696e65722e6a736f6e222c2265787465726e616c223a2266696c653a2f2f2f686f6d652f7669726174692f44726f70626f782f50726f6a656374732f52657365617263682f4d44442d4442532f45706879732f64725f7363632f2e646576636f6e7461696e65722f646576636f6e7461696e65722e6a736f6e222c2270617468223a222f686f6d652f7669726174692f44726f70626f782f50726f6a656374732f52657365617263682f4d44442d4442532f45706879732f64725f7363632f2e646576636f6e7461696e65722f646576636f6e7461696e65722e6a736f6e222c22736368656d65223a2266696c65227d7d/workspaces/dr_scc/notebooks/decoder/cohort_dr_scc.ipynb#W4sdnNjb2RlLXJlbW90ZQ%3D%3D?line=3'>4</a>\u001b[0m )  \u001b[39m# suppress_vars=1/40)#,override_alpha=2**-3) #suppress_vars = 1 works well if we're not doing THarm analysis\u001b[39;00m\n\u001b[1;32m      <a href='vscode-notebook-cell://dev-container%2B7b22686f737450617468223a222f686f6d652f7669726174692f44726f70626f782f50726f6a656374732f52657365617263682f4d44442d4442532f45706879732f64725f736363222c226c6f63616c446f636b6572223a66616c73652c22636f6e66696746696c65223a7b22246d6964223a312c22667350617468223a222f686f6d652f7669726174692f44726f70626f782f50726f6a656374732f52657365617263682f4d44442d4442532f45706879732f64725f7363632f2e646576636f6e7461696e65722f646576636f6e7461696e65722e6a736f6e222c2265787465726e616c223a2266696c653a2f2f2f686f6d652f7669726174692f44726f70626f782f50726f6a656374732f52657365617263682f4d44442d4442532f45706879732f64725f7363632f2e646576636f6e7461696e65722f646576636f6e7461696e65722e6a736f6e222c2270617468223a222f686f6d652f7669726174692f44726f70626f782f50726f6a656374732f52657365617263682f4d44442d4442532f45706879732f64725f7363632f2e646576636f6e7461696e65722f646576636f6e7461696e65722e6a736f6e222c22736368656d65223a2266696c65227d7d/workspaces/dr_scc/notebooks/decoder/cohort_dr_scc.ipynb#W4sdnNjb2RlLXJlbW90ZQ%3D%3D?line=4'>5</a>\u001b[0m main_readout\u001b[39m.\u001b[39mtrain_model()\n",
      "File \u001b[0;32m/dbspace/src/dbspace/readout/decoder.py:693\u001b[0m, in \u001b[0;36mweekly_decoderCV.train_setup\u001b[0;34m(self)\u001b[0m\n\u001b[1;32m    685\u001b[0m \u001b[39mprint\u001b[39m(\u001b[39m\"\u001b[39m\u001b[39mPerforming Training Setup for Weekly Decoder\u001b[39m\u001b[39m\"\u001b[39m)\n\u001b[1;32m    686\u001b[0m (\n\u001b[1;32m    687\u001b[0m     \u001b[39mself\u001b[39m\u001b[39m.\u001b[39mtrain_set_y,\n\u001b[1;32m    688\u001b[0m     \u001b[39mself\u001b[39m\u001b[39m.\u001b[39mtrain_set_c,\n\u001b[1;32m    689\u001b[0m     \u001b[39mself\u001b[39m\u001b[39m.\u001b[39mtrain_set_pt,\n\u001b[1;32m    690\u001b[0m     \u001b[39mself\u001b[39m\u001b[39m.\u001b[39mtrain_set_ph,\n\u001b[1;32m    691\u001b[0m ) \u001b[39m=\u001b[39m \u001b[39mself\u001b[39m\u001b[39m.\u001b[39maggregate_weeks(\u001b[39mself\u001b[39m\u001b[39m.\u001b[39mtrain_set)\n\u001b[0;32m--> 693\u001b[0m \u001b[39mself\u001b[39m\u001b[39m.\u001b[39mmodel_args[\u001b[39m\"\u001b[39m\u001b[39malpha\u001b[39m\u001b[39m\"\u001b[39m] \u001b[39m=\u001b[39m \u001b[39mself\u001b[39;49m\u001b[39m.\u001b[39;49m_path_slope_regression(do_plot\u001b[39m=\u001b[39;49m\u001b[39mTrue\u001b[39;49;00m)\n\u001b[1;32m    694\u001b[0m \u001b[39mprint\u001b[39m(\u001b[39m\"\u001b[39m\u001b[39mSet ENR-Alpha at \u001b[39m\u001b[39m\"\u001b[39m \u001b[39m+\u001b[39m \u001b[39mstr\u001b[39m(\u001b[39mself\u001b[39m\u001b[39m.\u001b[39mmodel_args[\u001b[39m\"\u001b[39m\u001b[39malpha\u001b[39m\u001b[39m\"\u001b[39m]))\n",
      "File \u001b[0;32m/dbspace/src/dbspace/readout/decoder.py:609\u001b[0m, in \u001b[0;36mweekly_decoder._path_slope_regression\u001b[0;34m(self, do_plot, suppress_vars, override_alpha)\u001b[0m\n\u001b[1;32m    606\u001b[0m \u001b[39mself\u001b[39m\u001b[39m.\u001b[39m_path_slope_results \u001b[39m=\u001b[39m assess_traj, path\n\u001b[1;32m    608\u001b[0m \u001b[39m# Figure out how many coefficients are around\u001b[39;00m\n\u001b[0;32m--> 609\u001b[0m coeff_present \u001b[39m=\u001b[39m (np\u001b[39m.\u001b[39mabs(path[\u001b[39m1\u001b[39m]\u001b[39m.\u001b[39msqueeze()\u001b[39m.\u001b[39mT) \u001b[39m>\u001b[39m \u001b[39m0\u001b[39m)\u001b[39m.\u001b[39mastype(np\u001b[39m.\u001b[39;49mint)\n\u001b[1;32m    610\u001b[0m total_coeffs \u001b[39m=\u001b[39m np\u001b[39m.\u001b[39msum(coeff_present, axis\u001b[39m=\u001b[39m\u001b[39m1\u001b[39m)\n\u001b[1;32m    611\u001b[0m slope_traj_vec \u001b[39m=\u001b[39m np\u001b[39m.\u001b[39marray([a[\u001b[39m\"\u001b[39m\u001b[39mSlope\u001b[39m\u001b[39m\"\u001b[39m][\u001b[39m0\u001b[39m] \u001b[39mfor\u001b[39;00m a \u001b[39min\u001b[39;00m assess_traj])\n",
      "File \u001b[0;32m~/.cache/pypoetry/virtualenvs/dr-scc-8slFt40C-py3.8/lib/python3.8/site-packages/numpy/__init__.py:305\u001b[0m, in \u001b[0;36m__getattr__\u001b[0;34m(attr)\u001b[0m\n\u001b[1;32m    300\u001b[0m     warnings\u001b[39m.\u001b[39mwarn(\n\u001b[1;32m    301\u001b[0m         \u001b[39mf\u001b[39m\u001b[39m\"\u001b[39m\u001b[39mIn the future `np.\u001b[39m\u001b[39m{\u001b[39;00mattr\u001b[39m}\u001b[39;00m\u001b[39m` will be defined as the \u001b[39m\u001b[39m\"\u001b[39m\n\u001b[1;32m    302\u001b[0m         \u001b[39m\"\u001b[39m\u001b[39mcorresponding NumPy scalar.\u001b[39m\u001b[39m\"\u001b[39m, \u001b[39mFutureWarning\u001b[39;00m, stacklevel\u001b[39m=\u001b[39m\u001b[39m2\u001b[39m)\n\u001b[1;32m    304\u001b[0m \u001b[39mif\u001b[39;00m attr \u001b[39min\u001b[39;00m __former_attrs__:\n\u001b[0;32m--> 305\u001b[0m     \u001b[39mraise\u001b[39;00m \u001b[39mAttributeError\u001b[39;00m(__former_attrs__[attr])\n\u001b[1;32m    307\u001b[0m \u001b[39m# Importing Tester requires importing all of UnitTest which is not a\u001b[39;00m\n\u001b[1;32m    308\u001b[0m \u001b[39m# cheap import Since it is mainly used in test suits, we lazy import it\u001b[39;00m\n\u001b[1;32m    309\u001b[0m \u001b[39m# here to save on the order of 10 ms of import time for most users\u001b[39;00m\n\u001b[1;32m    310\u001b[0m \u001b[39m#\u001b[39;00m\n\u001b[1;32m    311\u001b[0m \u001b[39m# The previous way Tester was imported also had a side effect of adding\u001b[39;00m\n\u001b[1;32m    312\u001b[0m \u001b[39m# the full `numpy.testing` namespace\u001b[39;00m\n\u001b[1;32m    313\u001b[0m \u001b[39mif\u001b[39;00m attr \u001b[39m==\u001b[39m \u001b[39m'\u001b[39m\u001b[39mtesting\u001b[39m\u001b[39m'\u001b[39m:\n",
      "\u001b[0;31mAttributeError\u001b[0m: module 'numpy' has no attribute 'int'.\n`np.int` was a deprecated alias for the builtin `int`. To avoid this error in existing code, use `int` by itself. Doing this will not modify any behavior and is safe. When replacing `np.int`, you may wish to use e.g. `np.int64` or `np.int32` to specify the precision. If you wish to review your current use, check the release note link for additional information.\nThe aliases was originally deprecated in NumPy 1.20; for more details and guidance see the original release note at:\n    https://numpy.org/devdocs/release/1.20.0-notes.html#deprecations"
     ]
    }
   ],
   "source": [
    "main_readout.train_setup()\n",
    "optimal_alpha = (\n",
    "    main_readout._path_slope_regression()\n",
    ")  # suppress_vars=1/40)#,override_alpha=2**-3) #suppress_vars = 1 works well if we're not doing THarm analysis\n",
    "main_readout.train_model()\n"
   ]
  },
  {
   "cell_type": "code",
   "execution_count": null,
   "metadata": {},
   "outputs": [],
   "source": [
    "main_readout.plot_decode_CV()\n"
   ]
  },
  {
   "cell_type": "code",
   "execution_count": null,
   "metadata": {},
   "outputs": [],
   "source": [
    "main_readout.test_setup()\n",
    "main_readout.test_model()\n",
    "\n",
    "main_readout.plot_test_timecourse()"
   ]
  },
  {
   "cell_type": "code",
   "execution_count": null,
   "metadata": {},
   "outputs": [],
   "source": [
    "main_readout.plot_test_stats()"
   ]
  },
  {
   "cell_type": "code",
   "execution_count": null,
   "metadata": {},
   "outputs": [],
   "source": [
    "main_readout.plot_test_regression_figure()\n",
    "# main_readout.plot_combo_paths()\n"
   ]
  }
 ],
 "metadata": {
  "kernelspec": {
   "display_name": "dr-scc-8slFt40C-py3.8",
   "language": "python",
   "name": "python3"
  },
  "language_info": {
   "codemirror_mode": {
    "name": "ipython",
    "version": 3
   },
   "file_extension": ".py",
   "mimetype": "text/x-python",
   "name": "python",
   "nbconvert_exporter": "python",
   "pygments_lexer": "ipython3",
   "version": "3.8.17"
  }
 },
 "nbformat": 4,
 "nbformat_minor": 2
}
