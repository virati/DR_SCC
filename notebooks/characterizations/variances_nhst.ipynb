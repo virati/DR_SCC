{
 "cells": [
  {
   "cell_type": "code",
   "execution_count": 1,
   "metadata": {},
   "outputs": [],
   "source": [
    "%reload_ext autoreload\n",
    "%autoreload 2\n",
    "\n",
    "import logging\n",
    "logger = logging.getLogger()\n",
    "logger.setLevel(logging.INFO)\n"
   ]
  },
  {
   "cell_type": "code",
   "execution_count": 27,
   "metadata": {},
   "outputs": [],
   "source": [
    "import scipy.stats as stats\n",
    "import matplotlib.pyplot as plt\n",
    "import matplotlib as mpl\n",
    "\n",
    "from dbspace.utils.structures import nestdict\n",
    "import dbspace as dbo\n",
    "import seaborn as sns\n",
    "sns.set_theme('paper')\n",
    "sns.set_style(\"white\")\n",
    "import numpy as np\n",
    "import pickle\n",
    "from matplotlib.patches import Rectangle, Circle\n",
    "from numpy import ndenumerate\n",
    "from dbspace.readout.OBands import OBands"
   ]
  },
  {
   "cell_type": "code",
   "execution_count": 3,
   "metadata": {},
   "outputs": [
    {
     "name": "stderr",
     "output_type": "stream",
     "text": [
      "INFO:root:Meta Checks Complete\n"
     ]
    }
   ],
   "source": [
    "frame_to_analyse = 'Chronic_Frame_Dec2022'\n",
    "do_weeks = [\"C01\",\"C24\"]\n",
    "correct_for_mismatch_compression = False\n",
    "\n",
    "BRFrame = pickle.load(open(f\"/tmp/{frame_to_analyse}.pickle\",\"rb\"))\n",
    "BRFrame.check_meta()"
   ]
  },
  {
   "cell_type": "code",
   "execution_count": 4,
   "metadata": {},
   "outputs": [],
   "source": [
    "#Move forward with traditional oscillatory band analysis\n",
    "analysis = OBands(BRFrame, ['901','903','905','906','907','908'])\n",
    "analysis.feat_extract(do_corrections=correct_for_mismatch_compression)"
   ]
  },
  {
   "cell_type": "code",
   "execution_count": 77,
   "metadata": {},
   "outputs": [
    {
     "data": {
      "image/png": "[encoded data removed]",
      "text/plain": [
       "<Figure size 640x480 with 1 Axes>"
      ]
     },
     "metadata": {},
     "output_type": "display_data"
    }
   ],
   "source": [
    "# for a single patient and week, plot the distribution for a single oscillation\n",
    "\n",
    "weeks = dbo.readout.ClinVect.Phase_List('ephys')\n",
    "for pt in ['906']:\n",
    "    pt_stack = {week: [] for week in weeks}\n",
    "    for week in ['C01']:\n",
    "        for feature in ['Delta']:\n",
    "            pt_recordings = [recording for recording in analysis.BRFrame.file_meta if recording['Patient'] == pt]\n",
    "            for week in weeks:\n",
    "                pt_stack[week] = [recording['FeatVect'] for recording in pt_recordings if recording['Phase'] == week]\n",
    "\n",
    "pt_list = ([[recording['Delta']['Left'] for recording in pt_stack[week]] for week in weeks])\n",
    "from itertools import zip_longest\n",
    "pt_matrix = np.transpose(list(zip_longest(*pt_list, fillvalue=np.nan)))\n",
    "for ii in range(28):\n",
    "    plt.hist(pt_matrix[ii,:], bins=np.linspace(-70,-50,20),alpha=0.1)\n",
    "\n",
    "plt.show()"
   ]
  }
 ],
 "metadata": {
  "kernelspec": {
   "display_name": "dr-scc-8slFt40C-py3.8",
   "language": "python",
   "name": "python3"
  },
  "language_info": {
   "codemirror_mode": {
    "name": "ipython",
    "version": 3
   },
   "file_extension": ".py",
   "mimetype": "text/x-python",
   "name": "python",
   "nbconvert_exporter": "python",
   "pygments_lexer": "ipython3",
   "version": "3.8.17"
  }
 },
 "nbformat": 4,
 "nbformat_minor": 2
}
