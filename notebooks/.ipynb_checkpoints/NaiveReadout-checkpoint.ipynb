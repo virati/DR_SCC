{
 "cells": [
  {
   "cell_type": "markdown",
   "metadata": {},
   "source": [
    "# Oscillatory Readouts of Depression\n",
    "## Naive Search\n",
    "\n",
    "The first step to studying oscillatory readouts of depression is to identify oscillatory bands that change substantially between the beginning of the study and the end of the study.\n",
    "\n",
    "We can do this quickly using the DBSpace library. We'll bring in the standard imports for plotting, DBSpace, numpy, and data."
   ]
  },
  {
   "cell_type": "code",
   "execution_count": 1,
   "metadata": {},
   "outputs": [
    {
     "name": "stdout",
     "output_type": "stream",
     "text": [
      "Using DBSpace LATEST\n",
      "Importing from biometrics...\n"
     ]
    }
   ],
   "source": [
    "from DBSpace.readout.BR_DataFrame import BR_Data_Tree\n",
    "from collections import defaultdict\n",
    "\n",
    "import matplotlib.pyplot as plt\n",
    "plt.close('all')\n",
    "\n",
    "#Where do we want to import DBSpace from?\n",
    "import sys\n",
    "import DBSpace as dbo\n",
    "from DBSpace import nestdict\n",
    "\n",
    "import seaborn as sns\n",
    "sns.set(font_scale=4)\n",
    "sns.set_style(\"white\")\n",
    "\n",
    "import numpy as np\n",
    "import pickle\n",
    "from matplotlib.patches import Rectangle, Circle\n",
    "from numpy import ndenumerate\n",
    "\n",
    "from OBands import *"
   ]
  },
  {
   "cell_type": "markdown",
   "metadata": {},
   "source": [
    "Next, we'll load in our intermediate file and check the metadata for which recordings have significant gain compression."
   ]
  },
  {
   "cell_type": "code",
   "execution_count": null,
   "metadata": {},
   "outputs": [],
   "source": [
    "BRFrame = pickle.load(open('/home/virati/Chronic_Frame.pickle',\"rb\"))\n",
    "\n",
    "#do a check to see if any PSDs are entirely zero; bad sign\n",
    "BRFrame.check_meta()"
   ]
  },
  {
   "cell_type": "markdown",
   "metadata": {},
   "source": [
    "Our next step is to take our BrainRadio Frame and perform our standardized oscillatory analyses."
   ]
  },
  {
   "cell_type": "markdown",
   "metadata": {},
   "source": [
    "analysis = OBands(BRFrame)\n",
    "analysis.feat_extract(do_corrections=True)"
   ]
  },
  {
   "cell_type": "markdown",
   "metadata": {},
   "source": [
    "Our analysis will proceed on specific patients with specific oscillatory bands."
   ]
  },
  {
   "cell_type": "code",
   "execution_count": null,
   "metadata": {},
   "outputs": [],
   "source": [
    "pts = ['901','903','905','906','907','908'] #The patients we'll be focusing on\n",
    "bands = ['Delta','Theta','Alpha','Beta*','Gamma1'] #The oscillatory bands we'll be focusing on\n",
    "all_feats = ['L-' + band for band in bands] + ['R-' + band for band in bands] #Rename the features for L and R for legibility\n",
    "circ = 'day' #Only focus on recordings taken in the day"
   ]
  },
  {
   "cell_type": "markdown",
   "metadata": {},
   "source": [
    "We're going to have nested dictionaries hold our major stats of interest: the significant stats between study timepoints and the distributions of the observed oscillatory powers themselves."
   ]
  },
  {
   "cell_type": "code",
   "execution_count": null,
   "metadata": {},
   "outputs": [],
   "source": [
    "ks_stats = nestdict()\n",
    "week_distr = nestdict()"
   ]
  }
 ],
 "metadata": {
  "kernelspec": {
   "display_name": "Python 3",
   "language": "python",
   "name": "python3"
  },
  "language_info": {
   "codemirror_mode": {
    "name": "ipython",
    "version": 3
   },
   "file_extension": ".py",
   "mimetype": "text/x-python",
   "name": "python",
   "nbconvert_exporter": "python",
   "pygments_lexer": "ipython3",
   "version": "3.8.0"
  }
 },
 "nbformat": 4,
 "nbformat_minor": 2
}
