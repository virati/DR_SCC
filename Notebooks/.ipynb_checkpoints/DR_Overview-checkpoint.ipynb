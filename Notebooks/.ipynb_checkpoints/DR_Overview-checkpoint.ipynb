{
 "cells": [
  {
   "cell_type": "markdown",
   "metadata": {},
   "source": [
    "# Depression Readout\n",
    "## Overview\n",
    "\n",
    "Imagine being able to measure how depressed you were by measuring neural activity.\n",
    "This could help us in the diagnosis and treatment of depression.\n",
    "It could also enable a whole new way of using deep brain stimulation (DBS) to *adaptively* treat depression.\n",
    "\n",
    "In this study, my goal was to identify oscillatory features in neural recordings.\n",
    "\n",
    "### Methods\n",
    "\n",
    "#### Framework\n",
    "The primary focus of this study is on characterizing the link between the brain's dynamics and depression state.\n",
    "We only have access to these *indirectly* through measurements.\n",
    "As we all know, measurements are imperfect.\n",
    "\n",
    "For more details about how imperfect our dLFP recordings of the SCC are, head on over to that study's [notebook]().\n",
    "\n",
    "##### Assumptions\n",
    "We make some assumptions in order to perform this study.\n",
    "First, we assume that the oscillatory *power* in our LFP recordings $\\vec{\\theta}$ is a sufficient statistic for the relationship between our depression state measurement $\\vec{c}$ and our brain state measurement $\\vec{y}$.\n",
    "\n",
    "$$ P(\\vec{c} | \\vec{\\theta(\\vec{y}(t))}, \\vec{y}(t)) = P(\\vec{c} | \\vec{\\theta})$$\n",
    "\n",
    "Second, we assume the mapping from our oscillatory state $\\vec{\\theta}$ to the depression state measurement $\\vec{c}$ is *linear*.\n",
    "\n",
    "This is a *weak* assumption; we know that the relationship isn't universally linear. \n",
    "However, as a first iteration of analysis, this approach will capture any large, obviously linear effects.\n",
    "\n",
    "##### Caveats\n",
    "The primary focus of this study isn't the DBS; it's the link between the brain's dynamics and depression state.\n",
    "If you're interested more in the mechanistic effects of DBS, head on over to that study's [notebook]().\n",
    "\n",
    "\n",
    "#### Patients\n",
    "The central piece of data in this study was clinical recordings from a set of severely depressed patients treated with DBS at their individualized subcallosal cingulate white matter (SCCwm).\n",
    "\n"
   ]
  }
 ],
 "metadata": {
  "kernelspec": {
   "display_name": "Python 3",
   "language": "python",
   "name": "python3"
  },
  "language_info": {
   "codemirror_mode": {
    "name": "ipython",
    "version": 3
   },
   "file_extension": ".py",
   "mimetype": "text/x-python",
   "name": "python",
   "nbconvert_exporter": "python",
   "pygments_lexer": "ipython3",
   "version": "3.8.0"
  }
 },
 "nbformat": 4,
 "nbformat_minor": 2
}
