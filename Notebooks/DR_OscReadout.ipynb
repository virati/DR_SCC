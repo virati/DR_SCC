{
 "cells": [
  {
   "cell_type": "markdown",
   "metadata": {},
   "source": [
    "# Depression Feedback Signal\n",
    "## Oscillatory Decoding\n",
    "\n",
    "### Overview\n",
    "In this notebook we'll take a regression-based strategy to learning a linear mapping between our SCC-LFP oscillatory state and the depression state.\n",
    "\n",
    "\n",
    "### Methods\n",
    "\n",
    "Intermediate data files are generated from the raw data directory.\n",
    "\n",
    "\n",
    "### Training the model\n",
    "\n",
    "\n",
    "### Validating the model\n",
    "\n",
    "\n",
    "### Classification performance\n",
    "\n",
    "\n",
    "### Coefficients\n",
    "\n",
    "\n",
    "\n",
    "### Discussion\n"
   ]
  }
 ],
 "metadata": {
  "kernelspec": {
   "display_name": "Python 3",
   "language": "python",
   "name": "python3"
  },
  "language_info": {
   "codemirror_mode": {
    "name": "ipython",
    "version": 3
   },
   "file_extension": ".py",
   "mimetype": "text/x-python",
   "name": "python",
   "nbconvert_exporter": "python",
   "pygments_lexer": "ipython3",
   "version": "3.8.0"
  }
 },
 "nbformat": 4,
 "nbformat_minor": 2
}
