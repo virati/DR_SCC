{
 "cells": [
  {
   "cell_type": "markdown",
   "metadata": {},
   "source": [
    "# Depression Feedback Signal\n",
    "## Data Preprocessing\n",
    "\n",
    "\n",
    "### Overview\n",
    "Data collected from the PC+S is in a raw text format with some metadata.\n",
    "First, we'll navigate through the raw directory structure in order to generate an intermediate file.\n",
    "This intermediate file will serve as the substrate for further analyses.\n",
    "\n",
    "\n",
    "### Generating the intermediate file\n",
    "\n",
    "The first step in analysis is taking our raw data and doing some basic preprocessing on it.\n",
    "\n"
   ]
  }
 ],
 "metadata": {
  "kernelspec": {
   "display_name": "Python 3",
   "language": "python",
   "name": "python3"
  },
  "language_info": {
   "codemirror_mode": {
    "name": "ipython",
    "version": 3
   },
   "file_extension": ".py",
   "mimetype": "text/x-python",
   "name": "python",
   "nbconvert_exporter": "python",
   "pygments_lexer": "ipython3",
   "version": "3.8.0"
  }
 },
 "nbformat": 4,
 "nbformat_minor": 2
}
